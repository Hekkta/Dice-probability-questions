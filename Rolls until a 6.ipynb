{
 "cells": [
  {
   "cell_type": "markdown",
   "metadata": {},
   "source": [
    "The following is a question that became well-known due to the high numbers of people getting it wrong.\n",
    "\n",
    "**The question**\n",
    "\n",
    "Question: You roll a fair dice until you get a 6. What is the expected number of rolls, including the roll of 6, conditioned on the event that all previous rolls (if any) were even numbers?\n",
    "\n",
    "In simpler terms. You roll a fair dice until you get a 6. Only counting the times where all rolls before the 6 were 2s or 4s, what's the average number of rolls?\n",
    "\n",
    "**The simpler case**\n",
    "\n",
    "Many people (including me) made the mistake of simplifying this problem to the following: You roll a 3 sided dice until you get a 3. What's the expected number of rolls, including the roll of 3?"
   ]
  },
  {
   "cell_type": "code",
   "execution_count": 1,
   "metadata": {},
   "outputs": [],
   "source": [
    "from random import randint"
   ]
  },
  {
   "cell_type": "markdown",
   "metadata": {},
   "source": [
    "## The simpler case"
   ]
  },
  {
   "cell_type": "markdown",
   "metadata": {},
   "source": [
    "Brute force. We roll the 3 sided dice 100000 times and take the average number of rolls to get a 3."
   ]
  },
  {
   "cell_type": "code",
   "execution_count": 2,
   "metadata": {
    "scrolled": true
   },
   "outputs": [
    {
     "name": "stdout",
     "output_type": "stream",
     "text": [
      "3.00482\n"
     ]
    }
   ],
   "source": [
    "total = 0\n",
    "# attempt this 100000 times\n",
    "for i in range(100000):\n",
    "    dice = 0\n",
    "    counter = 0\n",
    "    # roll a 3 sided dice until we land a 3\n",
    "    while dice != 3:\n",
    "        dice = randint(1, 3)\n",
    "        counter += 1\n",
    "    # tally up the number of rolls\n",
    "    total += counter\n",
    "    \n",
    "print(total/100000)"
   ]
  },
  {
   "cell_type": "markdown",
   "metadata": {},
   "source": [
    "This makes sense given that when attempting a task with probability 1/p to succeed, then the expected value of the number of attempts to succeed is equal to p."
   ]
  },
  {
   "cell_type": "markdown",
   "metadata": {},
   "source": [
    "## The question"
   ]
  },
  {
   "cell_type": "markdown",
   "metadata": {},
   "source": [
    "We'll brute force it as above."
   ]
  },
  {
   "cell_type": "code",
   "execution_count": 3,
   "metadata": {},
   "outputs": [
    {
     "name": "stdout",
     "output_type": "stream",
     "text": [
      "1.4994156289042035\n"
     ]
    }
   ],
   "source": [
    "# keep a list of the number of rolls each attempt makes\n",
    "lst = []\n",
    "# attempt this 100000 timess\n",
    "for i in range(100000):\n",
    "    dice = 0\n",
    "    counter = 0\n",
    "    # roll until an odd number is landed\n",
    "    while dice%2 != 1:\n",
    "        dice = randint(1, 6)\n",
    "        counter += 1\n",
    "        # if a 6 is rolled, add the number of rolls to the counter\n",
    "        if dice == 6:\n",
    "            lst.append(counter)\n",
    "            break\n",
    "    \n",
    "print(sum(lst)/len(lst))"
   ]
  },
  {
   "cell_type": "markdown",
   "metadata": {},
   "source": [
    "Let's confirm this answer with the definition of expectation. This includes an infinite series but we'll just go to 100 as it will converge rather quickly."
   ]
  },
  {
   "cell_type": "code",
   "execution_count": 4,
   "metadata": {},
   "outputs": [
    {
     "name": "stdout",
     "output_type": "stream",
     "text": [
      "1.5000000000000002\n"
     ]
    }
   ],
   "source": [
    "total = 0\n",
    "total2 = 0\n",
    "for i in range(1, 100):\n",
    "    total += (i*(1/6)*((1/3)**(i-1)))\n",
    "    total2 += (1/6)*((1/3)**(i-1))\n",
    "    \n",
    "print(total/total2)"
   ]
  },
  {
   "cell_type": "code",
   "execution_count": null,
   "metadata": {},
   "outputs": [],
   "source": []
  },
  {
   "cell_type": "code",
   "execution_count": null,
   "metadata": {},
   "outputs": [],
   "source": []
  }
 ],
 "metadata": {
  "kernelspec": {
   "display_name": "Python 3",
   "language": "python",
   "name": "python3"
  },
  "language_info": {
   "codemirror_mode": {
    "name": "ipython",
    "version": 3
   },
   "file_extension": ".py",
   "mimetype": "text/x-python",
   "name": "python",
   "nbconvert_exporter": "python",
   "pygments_lexer": "ipython3",
   "version": "3.8.6"
  }
 },
 "nbformat": 4,
 "nbformat_minor": 4
}
