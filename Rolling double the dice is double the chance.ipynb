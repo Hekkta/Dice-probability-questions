{
 "cells": [
  {
   "cell_type": "markdown",
   "metadata": {},
   "source": [
    "Question: I'm trying to roll a six with one dice. I try and fail. Maybe I'll double my chances by throwing another dice. But does this actually double my chances?"
   ]
  },
  {
   "cell_type": "markdown",
   "metadata": {},
   "source": [
    "I'm going to roll a dice and see if I get a six. If it's not a 6, I'll roll another. I'll do this a million times and count the successes."
   ]
  },
  {
   "cell_type": "code",
   "execution_count": 4,
   "metadata": {},
   "outputs": [
    {
     "name": "stdout",
     "output_type": "stream",
     "text": [
      "We successfuly rolled a 6 with 2 dice 305111 times.\n",
      "166491 successes were with the first dice.\n",
      "138620 successes were with the second dice.\n"
     ]
    }
   ],
   "source": [
    "from random import randint\n",
    "\n",
    "# i'll keep count of successes with these counters\n",
    "success_on_one = 0\n",
    "success_on_two = 0\n",
    "\n",
    "for i in range(1000000):\n",
    "    dice1 = randint(1, 6)\n",
    "    dice2 = randint(1, 6)\n",
    "    if dice1 == 6:\n",
    "        success_on_one += 1\n",
    "    elif dice2 == 6:\n",
    "        success_on_two += 1\n",
    "        \n",
    "print('We successfuly rolled a 6 with 2 dice ' + str(success_on_two + success_on_one) + ' times.')\n",
    "print(str(success_on_one) + ' successes were with the first dice.')\n",
    "print(str(success_on_two) + ' successes were with the second dice.')"
   ]
  },
  {
   "cell_type": "markdown",
   "metadata": {},
   "source": [
    "Hopefully it's clear now, there's an 11/36 chance of rolling a 6 with 2 dice which is not double 1/6. It seems like such an obvious fact but when thinking about re-rolling a dice it's not so clear."
   ]
  },
  {
   "cell_type": "code",
   "execution_count": null,
   "metadata": {},
   "outputs": [],
   "source": []
  }
 ],
 "metadata": {
  "kernelspec": {
   "display_name": "Python 3",
   "language": "python",
   "name": "python3"
  },
  "language_info": {
   "codemirror_mode": {
    "name": "ipython",
    "version": 3
   },
   "file_extension": ".py",
   "mimetype": "text/x-python",
   "name": "python",
   "nbconvert_exporter": "python",
   "pygments_lexer": "ipython3",
   "version": "3.8.6"
  }
 },
 "nbformat": 4,
 "nbformat_minor": 4
}
