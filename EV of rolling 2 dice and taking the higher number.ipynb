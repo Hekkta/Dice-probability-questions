{
 "cells": [
  {
   "cell_type": "markdown",
   "metadata": {},
   "source": [
    "Question is: When rolling 1 dice the expected value is 3.5. If we rolled 2 dice and took the highest, what would the expected value be now?"
   ]
  },
  {
   "cell_type": "markdown",
   "metadata": {},
   "source": [
    "Brute force rough method. I'll roll 2 dice lots of times and take the highest dice each time. I'll then take the average for that dice."
   ]
  },
  {
   "cell_type": "code",
   "execution_count": 1,
   "metadata": {},
   "outputs": [],
   "source": [
    "from random import randint"
   ]
  },
  {
   "cell_type": "code",
   "execution_count": 2,
   "metadata": {},
   "outputs": [
    {
     "name": "stdout",
     "output_type": "stream",
     "text": [
      "4.471309\n"
     ]
    }
   ],
   "source": [
    "count = 0\n",
    "total = 0\n",
    "\n",
    "# roll a million times and get the average\n",
    "for i in range(1000000):\n",
    "    dice1 = randint(1,6)\n",
    "    dice2 = randint(1,6)\n",
    "    result = max(dice1, dice2)\n",
    "    count += 1\n",
    "    total += result\n",
    "    \n",
    "average = total/count\n",
    "\n",
    "print(average)"
   ]
  },
  {
   "cell_type": "markdown",
   "metadata": {},
   "source": [
    "Exact method. I'll find the probability of the higher dice being n and then calcluate the EV as usual.\n",
    "(see https://en.wikipedia.org/wiki/Expected_value#Finite_case for full description)"
   ]
  },
  {
   "cell_type": "code",
   "execution_count": 3,
   "metadata": {},
   "outputs": [],
   "source": [
    "# chance of highest dice being n with 2 dice\n",
    "def highest_n(n):\n",
    "    # 1st chance is rolling n then rolling lower or equal to n\n",
    "    chance1 = (1/6)*(n/6)\n",
    "    \n",
    "    # 2nd chance is rolling lower than n then rolling n\n",
    "    chance2 = ((n-1)/6)*(1/6)\n",
    "    \n",
    "    return chance1 + chance2"
   ]
  },
  {
   "cell_type": "code",
   "execution_count": 4,
   "metadata": {},
   "outputs": [
    {
     "name": "stdout",
     "output_type": "stream",
     "text": [
      "4.472222222222222\n"
     ]
    }
   ],
   "source": [
    "ev = 0\n",
    "\n",
    "# the ev is the sum of the probabilities of rolling highest number of n multiplied by that number\n",
    "for i in range(1, 7):\n",
    "    ev += i * highest_n(i)\n",
    "    \n",
    "print(ev)"
   ]
  },
  {
   "cell_type": "markdown",
   "metadata": {},
   "source": [
    "This made me consider whether it's possible to generalise the above function to consider m dice."
   ]
  },
  {
   "cell_type": "code",
   "execution_count": 28,
   "metadata": {},
   "outputs": [],
   "source": [
    "# return the chance of rolling m dice and the highest number be n\n",
    "def m_highest_n(m, n):\n",
    "    chance = 0\n",
    "    for i in range(1, m+1):\n",
    "        # the first i-1 dice are less than n, the ith dice is equal to n and the rest are lower or equal to n\n",
    "        chance += (((n-1)/6)**(i-1)) * (1/6) * ((n/6)**(m-i))\n",
    "    return chance"
   ]
  },
  {
   "cell_type": "markdown",
   "metadata": {},
   "source": [
    "Test the function"
   ]
  },
  {
   "cell_type": "code",
   "execution_count": 29,
   "metadata": {},
   "outputs": [
    {
     "name": "stdout",
     "output_type": "stream",
     "text": [
      "Does the new function agree with the old?: True\n"
     ]
    }
   ],
   "source": [
    "# test that it agrees with the initial function\n",
    "print('Does the new function agree with the old?: ' + str(m_highest_n(2, 5) == highest_n(5)))"
   ]
  },
  {
   "cell_type": "markdown",
   "metadata": {},
   "source": [
    "Now we can calulate the ev of rolling m dice."
   ]
  },
  {
   "cell_type": "code",
   "execution_count": 36,
   "metadata": {},
   "outputs": [
    {
     "name": "stdout",
     "output_type": "stream",
     "text": [
      "The EV of rolling 0 dice and taking the largest number is 0.\n",
      "The EV of rolling 1 dice and taking the largest number is 3.5.\n",
      "The EV of rolling 2 dice and taking the largest number is 4.472222222222222.\n",
      "The EV of rolling 3 dice and taking the largest number is 4.958333333333334.\n",
      "The EV of rolling 4 dice and taking the largest number is 5.244598765432099.\n",
      "The EV of rolling 5 dice and taking the largest number is 5.4309413580246915.\n",
      "The EV of rolling 6 dice and taking the largest number is 5.560292352537722.\n",
      "The EV of rolling 7 dice and taking the largest number is 5.654117369684499.\n",
      "The EV of rolling 8 dice and taking the largest number is 5.724354257163541.\n",
      "The EV of rolling 9 dice and taking the largest number is 5.77817697616598.\n"
     ]
    }
   ],
   "source": [
    "# the ev is the sum of the probabilities of rolling highest number of n multiplied by that number\n",
    "for m in range(10):\n",
    "    ev = 0\n",
    "    for i in range(1, 7):\n",
    "        ev += i * m_highest_n(m, i)\n",
    "    print('The EV of rolling ' + str(m) + ' dice and taking the largest number is ' + str(ev) + '.')"
   ]
  },
  {
   "cell_type": "code",
   "execution_count": null,
   "metadata": {},
   "outputs": [],
   "source": []
  }
 ],
 "metadata": {
  "kernelspec": {
   "display_name": "Python 3",
   "language": "python",
   "name": "python3"
  },
  "language_info": {
   "codemirror_mode": {
    "name": "ipython",
    "version": 3
   },
   "file_extension": ".py",
   "mimetype": "text/x-python",
   "name": "python",
   "nbconvert_exporter": "python",
   "pygments_lexer": "ipython3",
   "version": "3.8.6"
  }
 },
 "nbformat": 4,
 "nbformat_minor": 4
}
