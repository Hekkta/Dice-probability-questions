{
 "cells": [
  {
   "cell_type": "markdown",
   "metadata": {},
   "source": [
    "Question is: When rolling 1 dice the expected value is 3.5. If we rolled 2 dice and took the highest, what would the expected value be now?"
   ]
  },
  {
   "cell_type": "markdown",
   "metadata": {},
   "source": [
    "Brute force rough method"
   ]
  },
  {
   "cell_type": "code",
   "execution_count": 1,
   "metadata": {},
   "outputs": [],
   "source": [
    "from random import randint"
   ]
  },
  {
   "cell_type": "code",
   "execution_count": 2,
   "metadata": {},
   "outputs": [
    {
     "name": "stdout",
     "output_type": "stream",
     "text": [
      "4.470862\n"
     ]
    }
   ],
   "source": [
    "count = 0\n",
    "total = 0\n",
    "\n",
    "# roll a million times and get the average\n",
    "for i in range(1000000):\n",
    "    dice1 = randint(1,6)\n",
    "    dice2 = randint(1,6)\n",
    "    result = max(dice1, dice2)\n",
    "    count += 1\n",
    "    total += result\n",
    "    \n",
    "average = total/count\n",
    "\n",
    "print(average)"
   ]
  },
  {
   "cell_type": "markdown",
   "metadata": {},
   "source": [
    "Exact method"
   ]
  },
  {
   "cell_type": "code",
   "execution_count": 3,
   "metadata": {},
   "outputs": [],
   "source": [
    "# chance of highest dice being n\n",
    "def highestn(n):\n",
    "    # 1st chance is rolling n then rolling lower or equal to n\n",
    "    chance1 = (1/6)*(n/6)\n",
    "    \n",
    "    # 2nd chance is rolling lower than n then rolling n\n",
    "    chance2 = ((n-1)/6)*(1/6)\n",
    "    \n",
    "    return chance1 + chance2"
   ]
  },
  {
   "cell_type": "code",
   "execution_count": 4,
   "metadata": {},
   "outputs": [
    {
     "name": "stdout",
     "output_type": "stream",
     "text": [
      "4.472222222222222\n"
     ]
    }
   ],
   "source": [
    "ev = 0\n",
    "\n",
    "# the ev is the sum of the probabilities of rolling highest number of n multiplied by that number\n",
    "for i in range(1, 7):\n",
    "    ev += i * highestn(i)\n",
    "    \n",
    "print(ev)"
   ]
  },
  {
   "cell_type": "code",
   "execution_count": null,
   "metadata": {},
   "outputs": [],
   "source": []
  }
 ],
 "metadata": {
  "kernelspec": {
   "display_name": "Python 3",
   "language": "python",
   "name": "python3"
  },
  "language_info": {
   "codemirror_mode": {
    "name": "ipython",
    "version": 3
   },
   "file_extension": ".py",
   "mimetype": "text/x-python",
   "name": "python",
   "nbconvert_exporter": "python",
   "pygments_lexer": "ipython3",
   "version": "3.8.6"
  }
 },
 "nbformat": 4,
 "nbformat_minor": 4
}
